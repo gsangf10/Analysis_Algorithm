{
  "nbformat": 4,
  "nbformat_minor": 0,
  "metadata": {
    "colab": {
      "name": "Logistic_Regression_2",
      "provenance": [],
      "collapsed_sections": [],
      "authorship_tag": "ABX9TyPNRX9gmuTc1foGrRMJZ5bs",
      "include_colab_link": true
    },
    "kernelspec": {
      "name": "python3",
      "display_name": "Python 3"
    },
    "language_info": {
      "name": "python"
    }
  },
  "cells": [
    {
      "cell_type": "markdown",
      "metadata": {
        "id": "view-in-github",
        "colab_type": "text"
      },
      "source": [
        "<a href=\"https://colab.research.google.com/github/gsangf10/Analysis_Algorithm/blob/main/Logistic_Regression_2.ipynb\" target=\"_parent\"><img src=\"https://colab.research.google.com/assets/colab-badge.svg\" alt=\"Open In Colab\"/></a>"
      ]
    },
    {
      "cell_type": "markdown",
      "source": [
        "# 꽃의 품종 판별\n"
      ],
      "metadata": {
        "id": "NyoNQ2FFJgWs"
      }
    },
    {
      "cell_type": "code",
      "execution_count": null,
      "metadata": {
        "id": "IFDfLy2JI-9n"
      },
      "outputs": [],
      "source": [
        "from sklearn.datasets import load_iris\n",
        "\n",
        "iris = load_iris()\n",
        "\n",
        "# 데이터\n",
        "i_data = iris.data\n",
        "\n",
        "# 특성(feature)\n",
        "feature = iris.feature_names\n",
        "\n",
        "# 타겟(target)\n",
        "target = iris.target\n",
        "\n",
        "# 타겟의 이름\n",
        "target_name = iris.target_names\n",
        "\n",
        "# 붓꽃 품종 판별하기\n",
        "# 아래와 같이 데이터가 있을 때 로지스틱 회귀를 이용해 각각 어떤 품종인지 판별하고 확률이 얼마인지 출력해주세요.\n",
        "\n",
        "t_list = [[6.1,  3,  4.9, 1.8], [4.8, 3.4, 1.6, 0.2 ], [5.7, 3.8, 1.7, 0.3 ], [5.7, 2.8, 4.5, 1.3 ], [5.8, 2.7, 3.9, 1.2]]\n"
      ]
    },
    {
      "cell_type": "markdown",
      "source": [
        "# 데이터 처리"
      ],
      "metadata": {
        "id": "sqDmv2qdLEnC"
      }
    },
    {
      "cell_type": "code",
      "source": [
        "import pandas as pd\n",
        "import numpy as np\n",
        "\n",
        "from sklearn.model_selection import train_test_split\n",
        "from sklearn.preprocessing import StandardScaler\n",
        "\n",
        "train_d, test_d, train_t, test_t = train_test_split(i_data, target, random_state=42)\n",
        "\n",
        "ss = StandardScaler()\n",
        "ss.fit(train_d)\n",
        "train_ds = ss.transform(train_d)\n",
        "test_ds = ss.transform(test_d)\n",
        "ts_list = ss.transform(t_list)\n",
        "\n",
        "ts_list\n"
      ],
      "metadata": {
        "colab": {
          "base_uri": "https://localhost:8080/"
        },
        "id": "zjjaThRkLBPA",
        "outputId": "72b7318a-c1cd-43bb-a5fb-df97486be6b3"
      },
      "execution_count": null,
      "outputs": [
        {
          "output_type": "execute_result",
          "data": {
            "text/plain": [
              "array([[ 0.33066442, -0.09232969,  0.63260689,  0.7866092 ],\n",
              "       [-1.26353226,  0.8268637 , -1.27761783, -1.3621769 ],\n",
              "       [-0.15985763,  1.7460571 , -1.21973223, -1.22787777],\n",
              "       [-0.15985763, -0.55192639,  0.4010645 ,  0.11511354],\n",
              "       [-0.03722712, -0.78172474,  0.05375091, -0.01918559]])"
            ]
          },
          "metadata": {},
          "execution_count": 43
        }
      ]
    },
    {
      "cell_type": "markdown",
      "source": [
        "# Logistic Regression (로지스틱 회귀 분석)"
      ],
      "metadata": {
        "id": "4G1ADiWVTn34"
      }
    },
    {
      "cell_type": "code",
      "source": [
        "from sklearn.linear_model import LogisticRegression\n",
        "\n",
        "lr = LogisticRegression()\n",
        "\n",
        "lr.max_iter = 1000 # 반복횟수\n",
        "lr.C = 20 # 규제 파라미터\n",
        "\n",
        "lr.fit(train_ds, train_t)\n",
        "lr.score(train_ds, train_t), lr.score(test_ds, test_t)\n",
        "\n",
        "print(lr.predict(ts_list)) # 확률에 의한 추정되는 특성\n",
        "print(np.round(lr.predict_proba(ts_list), decimals=3)) # 각 특성에 대한 확률\n",
        "print(target_name)"
      ],
      "metadata": {
        "colab": {
          "base_uri": "https://localhost:8080/"
        },
        "id": "exVFWdi9Mc7G",
        "outputId": "e4ec2cb8-3739-4add-be81-373df1048a2d"
      },
      "execution_count": null,
      "outputs": [
        {
          "output_type": "stream",
          "name": "stdout",
          "text": [
            "[2 0 0 1 1]\n",
            "[[0.    0.318 0.682]\n",
            " [0.999 0.001 0.   ]\n",
            " [0.995 0.005 0.   ]\n",
            " [0.001 0.983 0.016]\n",
            " [0.002 0.998 0.001]]\n",
            "['setosa' 'versicolor' 'virginica']\n"
          ]
        }
      ]
    }
  ]
}