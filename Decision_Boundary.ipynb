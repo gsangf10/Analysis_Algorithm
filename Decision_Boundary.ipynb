{
  "nbformat": 4,
  "nbformat_minor": 0,
  "metadata": {
    "colab": {
      "name": " Decision_Boundary",
      "provenance": [],
      "collapsed_sections": [],
      "authorship_tag": "ABX9TyN+CB0cHUmwnZkiWmgoKAxJ",
      "include_colab_link": true
    },
    "kernelspec": {
      "name": "python3",
      "display_name": "Python 3"
    },
    "language_info": {
      "name": "python"
    }
  },
  "cells": [
    {
      "cell_type": "markdown",
      "metadata": {
        "id": "view-in-github",
        "colab_type": "text"
      },
      "source": [
        "<a href=\"https://colab.research.google.com/github/gsangf10/Analysis_Algorithm/blob/main/Decision_Boundary.ipynb\" target=\"_parent\"><img src=\"https://colab.research.google.com/assets/colab-badge.svg\" alt=\"Open In Colab\"/></a>"
      ]
    },
    {
      "cell_type": "markdown",
      "source": [
        "#  Decision_Boundary (결정경계분석)\n"
      ],
      "metadata": {
        "id": "vh5XLhapPoKE"
      }
    },
    {
      "cell_type": "code",
      "execution_count": null,
      "metadata": {
        "id": "cptJwUe-LDg6"
      },
      "outputs": [],
      "source": [
        "import pandas as pd\n",
        "import numpy as np\n",
        "\n",
        "np.random.seed(10)\n",
        "\n",
        "li_1 = []\n",
        "li_2 = []\n",
        "\n",
        "while True:\n",
        "  x = np.random.randint(-5,5) * np.random.rand()\n",
        "  y = np.random.randint(-5,5) * np.random.rand()\n",
        "\n",
        "  # 반지름이 제곱근 5 이상인 범위와 이내인 범위로 데이더셋 설정\n",
        "  if x ** 2 + y ** 2 > 5:\n",
        "    if len(li_1) < 30:\n",
        "      li_1.append([x,y])\n",
        "  elif x ** 2 + y ** 2 < 5:\n",
        "    if len(li_2) < 30:\n",
        "      li_2.append([x,y])\n",
        "\n",
        "  if len(li_1) == 30 and len(li_2) == 30:\n",
        "    break\n",
        "\n",
        "o_data = np.array(li_1)\n",
        "i_data = np.array(li_2)\n",
        "\n",
        "data = np.concatenate((o_data, i_data), axis=0)\n",
        "\n",
        "target_1 = np.ones((30, 1))\n",
        "target_2 = np.zeros((30, 1))\n",
        "target = np.concatenate((target_1, target_2), axis=0)\n",
        "target = target.reshape(-1)"
      ]
    },
    {
      "cell_type": "markdown",
      "source": [
        "# 로지스틱 회귀 분석을 이용한 결정경계 예측"
      ],
      "metadata": {
        "id": "Ccv7B5RYPq3A"
      }
    },
    {
      "cell_type": "code",
      "source": [
        "from sklearn.linear_model import LogisticRegression\n",
        "from sklearn.preprocessing import StandardScaler\n",
        "from sklearn.preprocessing import PolynomialFeatures\n",
        "from sklearn.model_selection import train_test_split\n",
        "\n",
        "trd, tsd, trt, tst = train_test_split(data, target, random_state=0)\n",
        "\n",
        "poly = PolynomialFeatures(include_bias=False)\n",
        "poly.fit(trd, trt)\n",
        "print(poly.get_feature_names_out())\n",
        "\n",
        "trd_p = poly.transform(trd)\n",
        "tsd_p = poly.transform(tsd)\n",
        "\n",
        "# 로지스틱회귀 학습\n",
        "lr = LogisticRegression()\n",
        "\n",
        "lr.fit(trd_p, trt)\n",
        "print(lr.score(trd_p, trt), lr.score(tsd_p, tst))\n",
        "\n",
        "# 각 파라미터에 대한 계수(기울기)\n",
        "coef, intercept = lr.coef_, lr.intercept_\n",
        "coef, intercept"
      ],
      "metadata": {
        "colab": {
          "base_uri": "https://localhost:8080/"
        },
        "id": "vxT9JfoSP0DG",
        "outputId": "80d3e685-fc7f-4c7c-9aa7-6c9e5853e69f"
      },
      "execution_count": null,
      "outputs": [
        {
          "output_type": "stream",
          "name": "stdout",
          "text": [
            "['x0' 'x1' 'x0^2' 'x0 x1' 'x1^2']\n",
            "1.0 1.0\n"
          ]
        },
        {
          "output_type": "execute_result",
          "data": {
            "text/plain": [
              "(array([[ 0.3612135 ,  0.09105827,  1.26455516, -0.02777703,  1.40788592]]),\n",
              " array([-7.36846803]))"
            ]
          },
          "metadata": {},
          "execution_count": 117
        }
      ]
    },
    {
      "cell_type": "markdown",
      "source": [
        "# 시각화"
      ],
      "metadata": {
        "id": "D8xRkMLeUN8K"
      }
    },
    {
      "cell_type": "code",
      "source": [
        "import matplotlib.pyplot as plt\n",
        "\n",
        "# 원의 중점 -> x, y의 계수 / 2 * -1\n",
        "# 원의 반지름 - > 상수값(절대값)의 제곱근\n",
        "\n",
        "# 원의 중점 구하기\n",
        "ox = coef[0][0] / 2 * -1\n",
        "oy = coef[0][1] / 2 * -1\n",
        "\n",
        "# 반지름 구하기\n",
        "r = abs(intercept[0])\n",
        "r = np.sqrt(r)\n",
        "\n",
        "circle = plt.Circle((ox, oy), r, fill=False)\n",
        "\n",
        "a = plt.axes(xlim=(np.min(o_data[:,0]), np.max(o_data[:,0])), ylim=(np.min(o_data[:,1]), np.max(o_data[:,1])))\n",
        "a.add_patch(circle)\n",
        "a.set_aspect('equal')\n",
        "\n",
        "plt.scatter(o_data[:,0], o_data[:,1])\n",
        "plt.scatter(i_data[:,0], i_data[:,1])\n",
        "\n",
        "test_d = [[0,1.9],[0,2],[0,2.1],[0,2.2],[0,2.3]]\n",
        "test_p = poly.transform(test_d)\n",
        "\n",
        "print(lr.predict(test_p))\n",
        "print(np.round(lr.predict_proba(test_p), decimals=3)) \n",
        "\n",
        "for d in test_d:\n",
        "  plt.scatter(d[0],d[1], marker='x')"
      ],
      "metadata": {
        "colab": {
          "base_uri": "https://localhost:8080/",
          "height": 375
        },
        "id": "lkaf3rIxUONi",
        "outputId": "4450b04c-9ace-4348-8a17-7941a4a58855"
      },
      "execution_count": null,
      "outputs": [
        {
          "output_type": "stream",
          "name": "stdout",
          "text": [
            "[0. 0. 0. 0. 1.]\n",
            "[[0.892 0.108]\n",
            " [0.826 0.174]\n",
            " [0.725 0.275]\n",
            " [0.588 0.412]\n",
            " [0.428 0.572]]\n"
          ]
        },
        {
          "output_type": "display_data",
          "data": {
            "text/plain": [
              "<Figure size 432x288 with 1 Axes>"
            ],
            "image/png": "[encoded data removed]"
          },
          "metadata": {
            "needs_background": "light"
          }
        }
      ]
    }
  ]
}