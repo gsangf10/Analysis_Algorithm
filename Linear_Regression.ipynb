{
  "nbformat": 4,
  "nbformat_minor": 0,
  "metadata": {
    "colab": {
      "name": "KNN_Regression",
      "provenance": [],
      "collapsed_sections": [],
      "mount_file_id": "1YzeDvp7KvPly-FlgC0KA4aIKBGYg0n67",
      "authorship_tag": "ABX9TyP7b9+M7r7kTx2ZwSJERWK3",
      "include_colab_link": true
    },
    "kernelspec": {
      "name": "python3",
      "display_name": "Python 3"
    },
    "language_info": {
      "name": "python"
    }
  },
  "cells": [
    {
      "cell_type": "markdown",
      "metadata": {
        "id": "view-in-github",
        "colab_type": "text"
      },
      "source": [
        "<a href=\"https://colab.research.google.com/github/gsangf10/KNN_Algorithm/blob/main/KNN_Regression.ipynb\" target=\"_parent\"><img src=\"https://colab.research.google.com/assets/colab-badge.svg\" alt=\"Open In Colab\"/></a>"
      ]
    },
    {
      "cell_type": "markdown",
      "source": [
        "# 물고기 길이로 무게 예측"
      ],
      "metadata": {
        "id": "adYP_kwUcP8O"
      }
    },
    {
      "cell_type": "code",
      "execution_count": null,
      "metadata": {
        "id": "5M0KOlVGbfyh"
      },
      "outputs": [],
      "source": [
        "import pandas as pd\n",
        "import numpy as np\n",
        "\n",
        "# dataset 불러오기\n",
        "fish_df = pd.read_csv('/content/drive/MyDrive/Big_Data/dataset/Fish.csv')\n",
        "\n",
        "# 길이로 무게를 예측\n",
        "perch_length = fish_df[fish_df['Species'] == 'Perch']['Length1'].values\n",
        "perch_weight = fish_df[fish_df['Species'] == 'Perch']['Weight'].values\n",
        "\n",
        "from sklearn.model_selection import train_test_split\n",
        "\n",
        "trd, tsd, trt, tst = train_test_split(perch_length, perch_weight) # 75% 학습 데이터 25% 정답 데이터\n",
        "\n",
        "# 학습 데이터 준비\n"
      ]
    },
    {
      "cell_type": "markdown",
      "source": [
        ""
      ],
      "metadata": {
        "id": "7OW680ICgbcM"
      }
    },
    {
      "cell_type": "markdown",
      "source": [
        "# 산점도"
      ],
      "metadata": {
        "id": "kUV132WQea7e"
      }
    },
    {
      "cell_type": "code",
      "source": [
        "import matplotlib.pyplot as plt\n",
        "\n",
        "plt.scatter(perch_length, perch_weight)"
      ],
      "metadata": {
        "colab": {
          "base_uri": "https://localhost:8080/",
          "height": 283
        },
        "id": "5YOohpthebJg",
        "outputId": "02079a39-8c4d-4242-e5bb-fc10e9477746"
      },
      "execution_count": null,
      "outputs": [
        {
          "output_type": "execute_result",
          "data": {
            "text/plain": [
              "<matplotlib.collections.PathCollection at 0x7f41cd2fa910>"
            ]
          },
          "metadata": {},
          "execution_count": 104
        },
        {
          "output_type": "display_data",
          "data": {
            "text/plain": [
              "<Figure size 432x288 with 1 Axes>"
            ],
            "image/png": "[encoded data removed]"
          },
          "metadata": {
            "needs_background": "light"
          }
        }
      ]
    },
    {
      "cell_type": "markdown",
      "source": [
        "# KNN Regression Analysis (회귀 분석)"
      ],
      "metadata": {
        "id": "TgB653Sjgc37"
      }
    },
    {
      "cell_type": "code",
      "source": [
        "# 회귀 분석\n",
        "from sklearn.neighbors import KNeighborsRegressor\n",
        "\n",
        "knr = KNeighborsRegressor()\n",
        "\n",
        "# 학습 데이터는 2차원 배열로 해야함\n",
        "trd = trd.reshape(-1, 1)\n",
        "tsd = tsd.reshape(-1, 1)\n",
        "\n",
        "knr.n_neighbors = 3 # default 5\n",
        "knr.fit(trd, trt)\n",
        "knr.score(trd, trt), knr.score(tsd, tst) # 학습 데이터 평가, 테스트 데이터 평가\n",
        "# 학습 데이터 평가지표가 높고, 테스트 데이터 평가지표가 낮으면 -> 특수한 데이터 상황에서만 적중률이 높다. => 과대적합(overfit)\n",
        "# 학습 데이터 평가지표가 낮고, 테스트 데이터 평가지표가 높으면 -> 학습이 제대로 되지 않았기 때문에 올바른 예측을 할 수가 없다.\n",
        "# 학습 데이터 평가지표가 낮고, 테스트 데이터 평가지표도 낮으면 -> 학습이 부족하다. => 과소적합(underfit)\n",
        "\n",
        "t_d, t_t = trd[3], trt[3]\n",
        "print(t_d, t_t)\n",
        "knr.predict([t_d])\n"
      ],
      "metadata": {
        "colab": {
          "base_uri": "https://localhost:8080/"
        },
        "id": "h71PqvUSgd34",
        "outputId": "880bf0cb-9b5e-4a2f-fbf5-7d9ba768baca"
      },
      "execution_count": null,
      "outputs": [
        {
          "output_type": "stream",
          "name": "stdout",
          "text": [
            "[17.2] 80.0\n"
          ]
        },
        {
          "output_type": "execute_result",
          "data": {
            "text/plain": [
              "array([81.])"
            ]
          },
          "metadata": {},
          "execution_count": 112
        }
      ]
    },
    {
      "cell_type": "markdown",
      "source": [
        "# 원리\n",
        "- 최근접한 지점들의 값을 평균내어 산출한다."
      ],
      "metadata": {
        "id": "DiaJ1FfSuRCG"
      }
    },
    {
      "cell_type": "code",
      "source": [
        "# perch의 산점도\n",
        "plt.scatter(perch_length, perch_weight)\n",
        "plt.scatter(27, 400, marker='x') # 임의의 값 표기\n",
        "\n",
        "dist, idx = knr.kneighbors([[27]]) # 임의값 무게에 인접한 지점들의 위치 반환\n",
        "\n",
        "idx_1, idx_2, idx_3 = idx[0][0], idx[0][1], idx[0][2]\n",
        "plt.scatter(trd[idx_1], trt[idx_1], marker='D')\n",
        "plt.scatter(trd[idx_2], trt[idx_2], marker='D')\n",
        "plt.scatter(trd[idx_3], trt[idx_3], marker='D')\n",
        "\n",
        "print(idx)\n",
        "print((trt[idx_1] + trt[idx_2] + trt[idx_3]) / 3) # 최근접한 지점들의 평균값\n",
        "\n",
        "knr.predict([[27]]) # 모델이 평가 예측한 값"
      ],
      "metadata": {
        "colab": {
          "base_uri": "https://localhost:8080/",
          "height": 320
        },
        "id": "aS93xomrrPc4",
        "outputId": "48d04635-ec8e-4659-db61-61e7a6804060"
      },
      "execution_count": null,
      "outputs": [
        {
          "output_type": "stream",
          "name": "stdout",
          "text": [
            "[[ 4 14  2]]\n",
            "281.6666666666667\n"
          ]
        },
        {
          "output_type": "execute_result",
          "data": {
            "text/plain": [
              "array([281.66666667])"
            ]
          },
          "metadata": {},
          "execution_count": 128
        },
        {
          "output_type": "display_data",
          "data": {
            "text/plain": [
              "<Figure size 432x288 with 1 Axes>"
            ],
            "image/png": "[encoded data removed]"
          },
          "metadata": {
            "needs_background": "light"
          }
        }
      ]
    },
    {
      "cell_type": "markdown",
      "source": [
        "# 선형회귀"
      ],
      "metadata": {
        "id": "a85RdMItzZR3"
      }
    },
    {
      "cell_type": "code",
      "source": [
        "from sklearn.linear_model import LinearRegression\n",
        "\n",
        "lr = LinearRegression()\n",
        "\n",
        "lr.fit(trd, trt)\n",
        "lr.score(trd, trt), lr.score(tsd,tst)\n",
        "\n",
        "# 특성이 많을 수록 정확도가 올라간다.\n",
        "# 특성이 길이 하나면 길이를 제곱해서 새로운 특성을 만들어 낼 수 있다.\n",
        "\n",
        "trd_sqr = trd ** 2\n",
        "tsd_sqr = tsd ** 2\n",
        "\n",
        "trd2 = np.concatenate((trd_sqr, trd), axis=1)\n",
        "tsd2 = np.concatenate((tsd_sqr, tsd), axis=1)\n",
        "\n",
        "lr.fit(trd2, trt)\n",
        "lr.score(trd2, trt), lr.score(tsd2, tst)\n",
        "lr.predict([[16.8 ** 2, 16.8]])\n",
        "\n",
        "lr.coef_ # 기울기\n",
        "lr.intercept_ # 절편\n",
        "print(lr.coef_, lr.intercept_)\n",
        "\n",
        "# 그래프 표시\n",
        "plt.scatter(perch_length, perch_weight)\n",
        "x = np.squeeze(trd, axis=1)\n",
        "x = np.sort(x)\n",
        "\n",
        "# 기울기와 절편 대입으로 모형 예측\n",
        "plt.plot(x, 1.2*(x**2) - 24.75*x + 143.28, c='r')\n",
        "\n",
        "# 임의의 값에 대한 예측\n",
        "plt.scatter(27, 400, marker='x')\n",
        "lr.predict([[27**2, 27]])"
      ],
      "metadata": {
        "colab": {
          "base_uri": "https://localhost:8080/",
          "height": 302
        },
        "id": "7vIqC7Tsxm9z",
        "outputId": "dd729a2f-d748-4637-ada4-20ee0e9c767d"
      },
      "execution_count": null,
      "outputs": [
        {
          "output_type": "stream",
          "name": "stdout",
          "text": [
            "[  1.19934666 -24.75321792] 143.2843668420175\n"
          ]
        },
        {
          "output_type": "execute_result",
          "data": {
            "text/plain": [
              "array([349.27119759])"
            ]
          },
          "metadata": {},
          "execution_count": 132
        },
        {
          "output_type": "display_data",
          "data": {
            "text/plain": [
              "<Figure size 432x288 with 1 Axes>"
            ],
            "image/png": "[encoded data removed]"
          },
          "metadata": {
            "needs_background": "light"
          }
        }
      ]
    }
  ]
}
