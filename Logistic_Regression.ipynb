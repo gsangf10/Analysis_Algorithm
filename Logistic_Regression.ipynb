{
  "nbformat": 4,
  "nbformat_minor": 0,
  "metadata": {
    "colab": {
      "name": "Logistic_Regression",
      "provenance": [],
      "collapsed_sections": [],
      "mount_file_id": "1llBpaLu_out8ZFj43bdntVMA2b_Z1Txz",
      "authorship_tag": "ABX9TyPB9qZXEvLyH4thJjki1IQC",
      "include_colab_link": true
    },
    "kernelspec": {
      "name": "python3",
      "display_name": "Python 3"
    },
    "language_info": {
      "name": "python"
    }
  },
  "cells": [
    {
      "cell_type": "markdown",
      "metadata": {
        "id": "view-in-github",
        "colab_type": "text"
      },
      "source": [
        "<a href=\"https://colab.research.google.com/github/gsangf10/Analysis_Algorithm/blob/main/Logistic_Regression.ipynb\" target=\"_parent\"><img src=\"https://colab.research.google.com/assets/colab-badge.svg\" alt=\"Open In Colab\"/></a>"
      ]
    },
    {
      "cell_type": "markdown",
      "source": [
        "# Logistic Regression (로지스틱 회귀 분석)\n"
      ],
      "metadata": {
        "id": "nnJ3R_wGI_zl"
      }
    },
    {
      "cell_type": "code",
      "execution_count": null,
      "metadata": {
        "colab": {
          "base_uri": "https://localhost:8080/"
        },
        "id": "B1z94qIm-pMO",
        "outputId": "9e537099-ecf6-4f2d-8b98-8bd240f4ec40"
      },
      "outputs": [
        {
          "output_type": "stream",
          "name": "stdout",
          "text": [
            "== Classification ==\n",
            "[[0.2 0.6 0.  0.  0.2 0.  0. ]]\n",
            "['Bream' 'Parkki' 'Perch' 'Pike' 'Roach' 'Smelt' 'Whitefish']\n",
            "== Logistic ==\n",
            "[[0.29  0.485 0.    0.    0.199 0.    0.025]]\n",
            "['Bream' 'Parkki' 'Perch' 'Pike' 'Roach' 'Smelt' 'Whitefish']\n"
          ]
        }
      ],
      "source": [
        "import pandas as pd\n",
        "import numpy as np\n",
        "import matplotlib.pyplot as plt\n",
        "\n",
        "df = pd.read_csv('/content/drive/MyDrive/Big_Data/dataset/Fish.csv')\n",
        "\n",
        "df['Species'].unique()\n",
        "\n",
        "trd = df.iloc[:, 1:]\n",
        "trt = df['Species']\n",
        "\n",
        "from sklearn.model_selection import train_test_split\n",
        "from sklearn.preprocessing import StandardScaler\n",
        "from sklearn.neighbors import KNeighborsClassifier\n",
        "\n",
        "trd, tsd, trt, tst = train_test_split(trd.values, trt.values, random_state=42)\n",
        "ss = StandardScaler()\n",
        "ss.fit(trd)\n",
        "trd_s = ss.transform(trd)\n",
        "tsd_s = ss.transform(tsd)\n",
        "\n",
        "# 분류 -> 최근접 이웃 분류\n",
        "\n",
        "pre = [[230, 21, 24, 29, 10.5, 3.8]]\n",
        "pre_s = ss.transform(pre)\n",
        "\n",
        "knc = KNeighborsClassifier()\n",
        "knc.fit(trd_s, trt)\n",
        "knc.predict(pre_s)\n",
        "\n",
        "print('== Classification ==')\n",
        "print(knc.predict_proba(pre_s))\n",
        "print(knc.classes_) # 분류기준(class)\n",
        "\n",
        "# 전체 이웃의 개수에서 각 클래스가 가지는 비율\n",
        "# 이웃 10개 중 Perch 3개 Perch일 확률 30%\n",
        "# 분류 기준이 3개면 0, 1/3, 2/3. 100\n",
        "# 최근접 이웃 알고리즘 (예측 X, 모든 데이터가 다 준비 되어있어야 함)\n",
        "\n",
        "# 로지스틱 회귀 분류\n",
        "# 회귀를 이용해 분류 -> 회귀식으로부터 나온 값을 시그모이드 함수에 넣어서 0 ~ 1 사이의 확률값을 얻는 방식\n",
        "\n",
        "from sklearn.linear_model import LogisticRegression\n",
        "\n",
        "# 로지스틱 회귀는 규제가 적용되어 있음 (릿지 방식의 규제)\n",
        "lr = LogisticRegression()\n",
        "\n",
        "lr.max_iter = 1000 # 반복횟수\n",
        "lr.C = 20 # 규제 파라미터\n",
        "\n",
        "lr.fit(trd_s, trt)\n",
        "lr.score(trd_s, trt), lr.score(tsd_s, tst)\n",
        "\n",
        "lr.predict(pre_s)\n",
        "proba_rst = lr.predict_proba(pre_s)\n",
        "\n",
        "print('== Logistic ==')\n",
        "print(np.round(proba_rst, decimals=3))\n",
        "print(lr.classes_)"
      ]
    }
  ]
}