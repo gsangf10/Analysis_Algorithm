{
  "nbformat": 4,
  "nbformat_minor": 0,
  "metadata": {
    "colab": {
      "name": "Fish_model_1",
      "provenance": [],
      "collapsed_sections": [],
      "mount_file_id": "1h-6N-LHPjfo2AWRpjcB4uhQJZNQhazSO",
      "authorship_tag": "ABX9TyPp23rdQrYC3rOxxEihUgLv",
      "include_colab_link": true
    },
    "kernelspec": {
      "name": "python3",
      "display_name": "Python 3"
    },
    "language_info": {
      "name": "python"
    }
  },
  "cells": [
    {
      "cell_type": "markdown",
      "metadata": {
        "id": "view-in-github",
        "colab_type": "text"
      },
      "source": [
        "<a href=\"https://colab.research.google.com/github/gsangf10/model_train/blob/main/Fish_model_1.ipynb\" target=\"_parent\"><img src=\"https://colab.research.google.com/assets/colab-badge.svg\" alt=\"Open In Colab\"/></a>"
      ]
    },
    {
      "cell_type": "markdown",
      "source": [
        "# dataset 처리"
      ],
      "metadata": {
        "id": "_vJAMrgLYgvl"
      }
    },
    {
      "cell_type": "code",
      "execution_count": 3,
      "metadata": {
        "id": "vag9RrURHWTa"
      },
      "outputs": [],
      "source": [
        "# 머신러닝 알고리즘\n",
        "# KNN - 최근접 이웃 알고리즘\n",
        "\n",
        "import pandas as pd\n",
        "\n",
        "df = pd.read_csv('/content/drive/MyDrive/Big Data/dataset/Fish.csv')\n",
        "\n",
        "# 지도 학습 -> 답을 제시함으로 학습시킴\n",
        "# 학습 데이터\n",
        "# 정답 데이터\n",
        "\n",
        "# Weight(학습), Species(정답)\n",
        "weight = df['Weight']\n",
        "species = df['Species']\n",
        "\n",
        "# 수학적인 알고리즘 처리 -> 배열(numpy)\n",
        "weight.values\n",
        "species.values\n",
        "\n",
        "# target(정답 1, 나머지 0)\n",
        "df['target'] = 0\n",
        "\n",
        "# 물고기 종류 확인\n",
        "df['Species'].unique()\n",
        "\n",
        "# Bream의 target 마킹\n",
        "df['target'] = 0 # target 컬럼 만들기(초기값 0)\n",
        "\n",
        "idx = df['Species'] == 'Bream' # 조건 인덱싱으로 Bream인 인덱스 찾기\n",
        "\n",
        "# 판다스 인덱싱 -> loc, iloc\n",
        "df.loc[0:10, 'Species' : 'Length1'] \n",
        "\n",
        "df.loc[idx, 'target'] = 1 # 판다스 인덱싱을 이용해 데이터 수정하기\n",
        "\n",
        "# 학습데이터\n",
        "idx2 = (df['Species'] == 'Bream') | (df['Species'] == 'Smelt')\n",
        "df2 = df[idx2]\n",
        "train_set = df2[['Weight', 'Length1']]\n",
        "\n",
        "# 정답데이터 \n",
        "target_set = df2['target']\n",
        "\n",
        "# 배열로 변환\n",
        "train_set = train_set.values\n",
        "target_set = target_set.values"
      ]
    },
    {
      "cell_type": "markdown",
      "source": [
        "# 산점도"
      ],
      "metadata": {
        "id": "1EiLDYV6YlBq"
      }
    },
    {
      "cell_type": "code",
      "source": [
        "# 산점도\n",
        "\n",
        "import matplotlib.pyplot as plt\n",
        "\n",
        "plt.scatter(train_set[:,0], train_set[:,1])\n",
        "plt.scatter(230, 22, marker='x')\n",
        "plt.scatter(10, 11, marker='^')"
      ],
      "metadata": {
        "colab": {
          "base_uri": "https://localhost:8080/",
          "height": 283
        },
        "id": "1YRPGgJ0US4k",
        "outputId": "2edc87a1-3f4c-4053-e95e-c08562a0f1bf"
      },
      "execution_count": 11,
      "outputs": [
        {
          "output_type": "execute_result",
          "data": {
            "text/plain": [
              "<matplotlib.collections.PathCollection at 0x7fe1d9baa810>"
            ]
          },
          "metadata": {},
          "execution_count": 11
        },
        {
          "output_type": "display_data",
          "data": {
            "text/plain": [
              "<Figure size 432x288 with 1 Axes>"
            ],
            "image/png": "[encoded data removed]"
          },
          "metadata": {
            "needs_background": "light"
          }
        }
      ]
    },
    {
      "cell_type": "markdown",
      "source": [
        "# KNN"
      ],
      "metadata": {
        "id": "juIxm9sLYmpU"
      }
    },
    {
      "cell_type": "code",
      "source": [
        "# KNN\n",
        "from sklearn.neighbors import KNeighborsClassifier # KNN 알고리즘 모델\n",
        "\n",
        "kn = KNeighborsClassifier()\n",
        "\n",
        "# 학습\n",
        "kn.fit(train_set, target_set)\n",
        "\n",
        "# 평가\n",
        "kn.score(train_set, target_set) # 1.0 ==> 100%\n",
        "\n",
        "# 예측 (1 -> Bream, 0 -> Smelt)\n",
        "# kn.predict([[230, 22]])\n",
        "kn.predict([[10, 11]])\n"
      ],
      "metadata": {
        "colab": {
          "base_uri": "https://localhost:8080/"
        },
        "id": "Cpn0LEKgWl8g",
        "outputId": "872f6930-f8ed-43ee-94c7-b51b2a9bf503"
      },
      "execution_count": 15,
      "outputs": [
        {
          "output_type": "execute_result",
          "data": {
            "text/plain": [
              "array([0])"
            ]
          },
          "metadata": {},
          "execution_count": 15
        }
      ]
    },
    {
      "cell_type": "code",
      "source": [
        "from sklearn.neighbors import KNeighborsClassifier\n",
        "import numpy as np\n",
        "\n",
        "# 학습 데이터와 테스트 데이터가 동일하면 모델 학습 평가가 100이 나오게 되는데 이 100은 의미가 없음. 학습시킨 데이터와는 다른 데이터로 평가해야 유의미한 값이 나옴\n",
        "\n",
        "train_data = train_set[:35,:]\n",
        "test_data = train_set[35:, ]\n",
        "\n",
        "train_target = target_set[:35]\n",
        "test_target = target_set[35:]\n",
        "\n",
        "kn.fit(train_data, train_target) \n",
        "kn.score(test_data, test_target)\n",
        "\n",
        "# 이번엔 학습 평가 결과가 0이 나옴. 학습을 시킬 때 학습 데이터에 빙어에 대한 데이터가 단 하나도 존재하지 않기 때문. 학습 데이터를 마련할 때는 데이터가 골고루 분포되어 있어야 하므로\n",
        "# 보통 데이터를 한번 섞어줌.\n",
        "\n",
        "# 넘파이의 shuffle을 이용해 배열의 원소들을 섞을 수 있음. 이 때, 학습 데이터와 정답 데이터가 같은 위치로 섞여야 하기 때문에 두 배열데이터를 붙여서 하나의 배열로 \n",
        "# 만든 후 섞어주어야 함\n",
        "\n",
        "# 넘파이 합치기\n",
        "\n",
        "target_arr = np.expand_dims(target_set, axis=1) # 넘파이에서 배열을 합치려면 대상 배열이 2차원부터 가능하기 때문에 1차원 배열인 정답데이터의 차원을 확장함. 각 정답 데이터가 행에 붙어야 하므로 확장 방향은 세로축\n",
        "con_data = np.concatenate((train_set, target_arr), axis=1)\n",
        "np.random.shuffle(con_data) \n",
        "\n",
        "\n",
        "# 배열 다시 나누기\n",
        "rand_train_data = con_data[:35, :2]\n",
        "rand_train_target = con_data[:35, 2:]\n",
        "rand_test_data = con_data[35:, :2]\n",
        "rand_test_target = con_data[35:, 2:]\n",
        "\n",
        "# target 배열은 1차원 배열이어야 하므로 차원 축소\n",
        "rand_train_target = np.squeeze(rand_train_target, axis=1)\n",
        "rand_test_target = np.squeeze(rand_test_target, axis=1)\n",
        "\n",
        "# 훈련 후 재평가\n",
        "kn = kn.fit(rand_train_data, rand_train_target)\n",
        "kn.score(rand_test_data, rand_test_target)\n",
        "# 예측 (1 -> Bream, 0 -> Smelt)\n",
        "# kn.predict([[230, 22]])\n",
        "kn.predict([[10, 11]])"
      ],
      "metadata": {
        "colab": {
          "base_uri": "https://localhost:8080/"
        },
        "id": "mbqcls4NmNv9",
        "outputId": "d9c58a53-fd68-4dea-8cb9-5c2fe9773dab"
      },
      "execution_count": 21,
      "outputs": [
        {
          "output_type": "execute_result",
          "data": {
            "text/plain": [
              "array([0.])"
            ]
          },
          "metadata": {},
          "execution_count": 21
        }
      ]
    }
  ]
}