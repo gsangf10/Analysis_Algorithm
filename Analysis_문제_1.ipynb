{
  "nbformat": 4,
  "nbformat_minor": 0,
  "metadata": {
    "colab": {
      "name": "Analysis_문제_1",
      "provenance": [],
      "collapsed_sections": [],
      "mount_file_id": "1qfr6FI3agsNNDcDrdUtJFghSJT4rHWEj",
      "authorship_tag": "ABX9TyNiDvJIvUbZUiCz6g4+TZzP",
      "include_colab_link": true
    },
    "kernelspec": {
      "name": "python3",
      "display_name": "Python 3"
    },
    "language_info": {
      "name": "python"
    }
  },
  "cells": [
    {
      "cell_type": "markdown",
      "metadata": {
        "id": "view-in-github",
        "colab_type": "text"
      },
      "source": [
        "<a href=\"https://colab.research.google.com/github/gsangf10/Analysis_Algorithm/blob/main/Analysis_%EB%AC%B8%EC%A0%9C_1.ipynb\" target=\"_parent\"><img src=\"https://colab.research.google.com/assets/colab-badge.svg\" alt=\"Open In Colab\"/></a>"
      ]
    },
    {
      "cell_type": "markdown",
      "source": [
        "# 심부전증 증세로 사망 확률 예측\n"
      ],
      "metadata": {
        "id": "lxMlWdB8lYDb"
      }
    },
    {
      "cell_type": "code",
      "execution_count": null,
      "metadata": {
        "id": "TYaJLh75huoe"
      },
      "outputs": [],
      "source": [
        "# 각 특성 데이터 설명\n",
        "# age : 환자의 나이\n",
        "# anaemia : 환자의 빈혈증 여부(0: 정상, 1: 빈혈)\n",
        "# creatinine_phosphokinase: 크레아틴키나제 검사 결과\n",
        "# diabetes : 당뇨 여부 (0: 정상, 1: 당뇨)\n",
        "# ejection_fraction : 박출계수(%)\n",
        "# high_blood_pressure : 고혈압여부 (0: 정상, 1: 고혈압)\n",
        "# platelets : 혈소판 수 (kiloplatelets/mL)\n",
        "# serum_creatinine : 혈중 크레아틴 레벨(mg/dL)\n",
        "# serum_sodium : 혈중 나트륨 레벨(mEq/L)\n",
        "# sex : 성별(0: 여성, 1: 남성)\n",
        "# smoking : 흡연 여부 (0: 비흡연, 1: 흡연)\n",
        "# time : 관찰기관(일)\n",
        "# DEATH_EVENT : 사망 여부 (0: 생존, 1: 사망)"
      ]
    },
    {
      "cell_type": "markdown",
      "source": [
        "# 1. 판다스로 데이터 읽어오기"
      ],
      "metadata": {
        "id": "9zXKIFW5hoyo"
      }
    },
    {
      "cell_type": "code",
      "source": [
        "import pandas as pd\n",
        "import numpy as np\n",
        "import matplotlib.pyplot as plt\n",
        "\n",
        "df = pd.read_csv('/content/drive/MyDrive/Big_Data/dataset/heart_failure_clinical_records_dataset.csv')"
      ],
      "metadata": {
        "id": "YZNevzJJhydO"
      },
      "execution_count": null,
      "outputs": []
    },
    {
      "cell_type": "markdown",
      "source": [
        "# 2. 데이터의 개수, 데이터 타입, 결측치 확인"
      ],
      "metadata": {
        "id": "pTfO0i00htIe"
      }
    },
    {
      "cell_type": "code",
      "source": [
        "# df.info()\n",
        "df.columns\n",
        "df.count()\n",
        "df.dtypes\n",
        "df.isnull().sum()\n",
        "\n",
        "df.describe()"
      ],
      "metadata": {
        "colab": {
          "base_uri": "https://localhost:8080/",
          "height": 364
        },
        "id": "dVP_n6qlh3Zy",
        "outputId": "f9b7ba30-620f-43cc-ae38-107800eec0ba"
      },
      "execution_count": null,
      "outputs": [
        {
          "output_type": "execute_result",
          "data": {
            "text/plain": [
              "              age     anaemia  creatinine_phosphokinase    diabetes  \\\n",
              "count  299.000000  299.000000                299.000000  299.000000   \n",
              "mean    60.833893    0.431438                581.839465    0.418060   \n",
              "std     11.894809    0.496107                970.287881    0.494067   \n",
              "min     40.000000    0.000000                 23.000000    0.000000   \n",
              "25%     51.000000    0.000000                116.500000    0.000000   \n",
              "50%     60.000000    0.000000                250.000000    0.000000   \n",
              "75%     70.000000    1.000000                582.000000    1.000000   \n",
              "max     95.000000    1.000000               7861.000000    1.000000   \n",
              "\n",
              "       ejection_fraction  high_blood_pressure      platelets  \\\n",
              "count         299.000000           299.000000     299.000000   \n",
              "mean           38.083612             0.351171  263358.029264   \n",
              "std            11.834841             0.478136   97804.236869   \n",
              "min            14.000000             0.000000   25100.000000   \n",
              "25%            30.000000             0.000000  212500.000000   \n",
              "50%            38.000000             0.000000  262000.000000   \n",
              "75%            45.000000             1.000000  303500.000000   \n",
              "max            80.000000             1.000000  850000.000000   \n",
              "\n",
              "       serum_creatinine  serum_sodium         sex    smoking        time  \\\n",
              "count         299.00000    299.000000  299.000000  299.00000  299.000000   \n",
              "mean            1.39388    136.625418    0.648829    0.32107  130.260870   \n",
              "std             1.03451      4.412477    0.478136    0.46767   77.614208   \n",
              "min             0.50000    113.000000    0.000000    0.00000    4.000000   \n",
              "25%             0.90000    134.000000    0.000000    0.00000   73.000000   \n",
              "50%             1.10000    137.000000    1.000000    0.00000  115.000000   \n",
              "75%             1.40000    140.000000    1.000000    1.00000  203.000000   \n",
              "max             9.40000    148.000000    1.000000    1.00000  285.000000   \n",
              "\n",
              "       DEATH_EVENT  \n",
              "count    299.00000  \n",
              "mean       0.32107  \n",
              "std        0.46767  \n",
              "min        0.00000  \n",
              "25%        0.00000  \n",
              "50%        0.00000  \n",
              "75%        1.00000  \n",
              "max        1.00000  "
            ],
            "text/html": [
              "\n",
              "  <div id=\"df-d45f63c5-642e-4844-a751-e57a9902d56d\">\n",
              "    <div class=\"colab-df-container\">\n",
              "      <div>\n",
              "<style scoped>\n",
              "    .dataframe tbody tr th:only-of-type {\n",
              "        vertical-align: middle;\n",
              "    }\n",
              "\n",
              "    .dataframe tbody tr th {\n",
              "        vertical-align: top;\n",
              "    }\n",
              "\n",
              "    .dataframe thead th {\n",
              "        text-align: right;\n",
              "    }\n",
              "</style>\n",
              "<table border=\"1\" class=\"dataframe\">\n",
              "  <thead>\n",
              "    <tr style=\"text-align: right;\">\n",
              "      <th></th>\n",
              "      <th>age</th>\n",
              "      <th>anaemia</th>\n",
              "      <th>creatinine_phosphokinase</th>\n",
              "      <th>diabetes</th>\n",
              "      <th>ejection_fraction</th>\n",
              "      <th>high_blood_pressure</th>\n",
              "      <th>platelets</th>\n",
              "      <th>serum_creatinine</th>\n",
              "      <th>serum_sodium</th>\n",
              "      <th>sex</th>\n",
              "      <th>smoking</th>\n",
              "      <th>time</th>\n",
              "      <th>DEATH_EVENT</th>\n",
              "    </tr>\n",
              "  </thead>\n",
              "  <tbody>\n",
              "    <tr>\n",
              "      <th>count</th>\n",
              "      <td>299.000000</td>\n",
              "      <td>299.000000</td>\n",
              "      <td>299.000000</td>\n",
              "      <td>299.000000</td>\n",
              "      <td>299.000000</td>\n",
              "      <td>299.000000</td>\n",
              "      <td>299.000000</td>\n",
              "      <td>299.00000</td>\n",
              "      <td>299.000000</td>\n",
              "      <td>299.000000</td>\n",
              "      <td>299.00000</td>\n",
              "      <td>299.000000</td>\n",
              "      <td>299.00000</td>\n",
              "    </tr>\n",
              "    <tr>\n",
              "      <th>mean</th>\n",
              "      <td>60.833893</td>\n",
              "      <td>0.431438</td>\n",
              "      <td>581.839465</td>\n",
              "      <td>0.418060</td>\n",
              "      <td>38.083612</td>\n",
              "      <td>0.351171</td>\n",
              "      <td>263358.029264</td>\n",
              "      <td>1.39388</td>\n",
              "      <td>136.625418</td>\n",
              "      <td>0.648829</td>\n",
              "      <td>0.32107</td>\n",
              "      <td>130.260870</td>\n",
              "      <td>0.32107</td>\n",
              "    </tr>\n",
              "    <tr>\n",
              "      <th>std</th>\n",
              "      <td>11.894809</td>\n",
              "      <td>0.496107</td>\n",
              "      <td>970.287881</td>\n",
              "      <td>0.494067</td>\n",
              "      <td>11.834841</td>\n",
              "      <td>0.478136</td>\n",
              "      <td>97804.236869</td>\n",
              "      <td>1.03451</td>\n",
              "      <td>4.412477</td>\n",
              "      <td>0.478136</td>\n",
              "      <td>0.46767</td>\n",
              "      <td>77.614208</td>\n",
              "      <td>0.46767</td>\n",
              "    </tr>\n",
              "    <tr>\n",
              "      <th>min</th>\n",
              "      <td>40.000000</td>\n",
              "      <td>0.000000</td>\n",
              "      <td>23.000000</td>\n",
              "      <td>0.000000</td>\n",
              "      <td>14.000000</td>\n",
              "      <td>0.000000</td>\n",
              "      <td>25100.000000</td>\n",
              "      <td>0.50000</td>\n",
              "      <td>113.000000</td>\n",
              "      <td>0.000000</td>\n",
              "      <td>0.00000</td>\n",
              "      <td>4.000000</td>\n",
              "      <td>0.00000</td>\n",
              "    </tr>\n",
              "    <tr>\n",
              "      <th>25%</th>\n",
              "      <td>51.000000</td>\n",
              "      <td>0.000000</td>\n",
              "      <td>116.500000</td>\n",
              "      <td>0.000000</td>\n",
              "      <td>30.000000</td>\n",
              "      <td>0.000000</td>\n",
              "      <td>212500.000000</td>\n",
              "      <td>0.90000</td>\n",
              "      <td>134.000000</td>\n",
              "      <td>0.000000</td>\n",
              "      <td>0.00000</td>\n",
              "      <td>73.000000</td>\n",
              "      <td>0.00000</td>\n",
              "    </tr>\n",
              "    <tr>\n",
              "      <th>50%</th>\n",
              "      <td>60.000000</td>\n",
              "      <td>0.000000</td>\n",
              "      <td>250.000000</td>\n",
              "      <td>0.000000</td>\n",
              "      <td>38.000000</td>\n",
              "      <td>0.000000</td>\n",
              "      <td>262000.000000</td>\n",
              "      <td>1.10000</td>\n",
              "      <td>137.000000</td>\n",
              "      <td>1.000000</td>\n",
              "      <td>0.00000</td>\n",
              "      <td>115.000000</td>\n",
              "      <td>0.00000</td>\n",
              "    </tr>\n",
              "    <tr>\n",
              "      <th>75%</th>\n",
              "      <td>70.000000</td>\n",
              "      <td>1.000000</td>\n",
              "      <td>582.000000</td>\n",
              "      <td>1.000000</td>\n",
              "      <td>45.000000</td>\n",
              "      <td>1.000000</td>\n",
              "      <td>303500.000000</td>\n",
              "      <td>1.40000</td>\n",
              "      <td>140.000000</td>\n",
              "      <td>1.000000</td>\n",
              "      <td>1.00000</td>\n",
              "      <td>203.000000</td>\n",
              "      <td>1.00000</td>\n",
              "    </tr>\n",
              "    <tr>\n",
              "      <th>max</th>\n",
              "      <td>95.000000</td>\n",
              "      <td>1.000000</td>\n",
              "      <td>7861.000000</td>\n",
              "      <td>1.000000</td>\n",
              "      <td>80.000000</td>\n",
              "      <td>1.000000</td>\n",
              "      <td>850000.000000</td>\n",
              "      <td>9.40000</td>\n",
              "      <td>148.000000</td>\n",
              "      <td>1.000000</td>\n",
              "      <td>1.00000</td>\n",
              "      <td>285.000000</td>\n",
              "      <td>1.00000</td>\n",
              "    </tr>\n",
              "  </tbody>\n",
              "</table>\n",
              "</div>\n",
              "      <button class=\"colab-df-convert\" onclick=\"convertToInteractive('df-d45f63c5-642e-4844-a751-e57a9902d56d')\"\n",
              "              title=\"Convert this dataframe to an interactive table.\"\n",
              "              style=\"display:none;\">\n",
              "        \n",
              "  <svg xmlns=\"http://www.w3.org/2000/svg\" height=\"24px\"viewBox=\"0 0 24 24\"\n",
              "       width=\"24px\">\n",
              "    <path d=\"M0 0h24v24H0V0z\" fill=\"none\"/>\n",
              "    <path d=\"M18.56 5.44l.94 2.06.94-2.06 2.06-.94-2.06-.94-.94-2.06-.94 2.06-2.06.94zm-11 1L8.5 8.5l.94-2.06 2.06-.94-2.06-.94L8.5 2.5l-.94 2.06-2.06.94zm10 10l.94 2.06.94-2.06 2.06-.94-2.06-.94-.94-2.06-.94 2.06-2.06.94z\"/><path d=\"M17.41 7.96l-1.37-1.37c-.4-.4-.92-.59-1.43-.59-.52 0-1.04.2-1.43.59L10.3 9.45l-7.72 7.72c-.78.78-.78 2.05 0 2.83L4 21.41c.39.39.9.59 1.41.59.51 0 1.02-.2 1.41-.59l7.78-7.78 2.81-2.81c.8-.78.8-2.07 0-2.86zM5.41 20L4 18.59l7.72-7.72 1.47 1.35L5.41 20z\"/>\n",
              "  </svg>\n",
              "      </button>\n",
              "      \n",
              "  <style>\n",
              "    .colab-df-container {\n",
              "      display:flex;\n",
              "      flex-wrap:wrap;\n",
              "      gap: 12px;\n",
              "    }\n",
              "\n",
              "    .colab-df-convert {\n",
              "      background-color: #E8F0FE;\n",
              "      border: none;\n",
              "      border-radius: 50%;\n",
              "      cursor: pointer;\n",
              "      display: none;\n",
              "      fill: #1967D2;\n",
              "      height: 32px;\n",
              "      padding: 0 0 0 0;\n",
              "      width: 32px;\n",
              "    }\n",
              "\n",
              "    .colab-df-convert:hover {\n",
              "      background-color: #E2EBFA;\n",
              "      box-shadow: 0px 1px 2px rgba(60, 64, 67, 0.3), 0px 1px 3px 1px rgba(60, 64, 67, 0.15);\n",
              "      fill: #174EA6;\n",
              "    }\n",
              "\n",
              "    [theme=dark] .colab-df-convert {\n",
              "      background-color: #3B4455;\n",
              "      fill: #D2E3FC;\n",
              "    }\n",
              "\n",
              "    [theme=dark] .colab-df-convert:hover {\n",
              "      background-color: #434B5C;\n",
              "      box-shadow: 0px 1px 3px 1px rgba(0, 0, 0, 0.15);\n",
              "      filter: drop-shadow(0px 1px 2px rgba(0, 0, 0, 0.3));\n",
              "      fill: #FFFFFF;\n",
              "    }\n",
              "  </style>\n",
              "\n",
              "      <script>\n",
              "        const buttonEl =\n",
              "          document.querySelector('#df-d45f63c5-642e-4844-a751-e57a9902d56d button.colab-df-convert');\n",
              "        buttonEl.style.display =\n",
              "          google.colab.kernel.accessAllowed ? 'block' : 'none';\n",
              "\n",
              "        async function convertToInteractive(key) {\n",
              "          const element = document.querySelector('#df-d45f63c5-642e-4844-a751-e57a9902d56d');\n",
              "          const dataTable =\n",
              "            await google.colab.kernel.invokeFunction('convertToInteractive',\n",
              "                                                     [key], {});\n",
              "          if (!dataTable) return;\n",
              "\n",
              "          const docLinkHtml = 'Like what you see? Visit the ' +\n",
              "            '<a target=\"_blank\" href=https://colab.research.google.com/notebooks/data_table.ipynb>data table notebook</a>'\n",
              "            + ' to learn more about interactive tables.';\n",
              "          element.innerHTML = '';\n",
              "          dataTable['output_type'] = 'display_data';\n",
              "          await google.colab.output.renderOutput(dataTable, element);\n",
              "          const docLink = document.createElement('div');\n",
              "          docLink.innerHTML = docLinkHtml;\n",
              "          element.appendChild(docLink);\n",
              "        }\n",
              "      </script>\n",
              "    </div>\n",
              "  </div>\n",
              "  "
            ]
          },
          "metadata": {},
          "execution_count": 3
        }
      ]
    },
    {
      "cell_type": "markdown",
      "source": [
        "# 3. 시각화를 이용한 탐색적 분석\n",
        "- 히스토그램을 이용해 각 수치데이터의 데이터 분포 및 상관관계 확인하기"
      ],
      "metadata": {
        "id": "b5cvILkhhx82"
      }
    },
    {
      "cell_type": "code",
      "source": [
        "import seaborn as sn\n",
        "\n",
        "# sn.histplot(x='age', data=df)\n",
        "sn.histplot(x='age', data=df, hue='DEATH_EVENT')\n",
        "\n",
        "print(df.groupby(df['age']).sum()['DEATH_EVENT'].values)"
      ],
      "metadata": {
        "colab": {
          "base_uri": "https://localhost:8080/",
          "height": 315
        },
        "id": "zHyEUrLgh5MY",
        "outputId": "47b5371b-f618-4093-8cd4-30c63be3968b"
      },
      "execution_count": null,
      "outputs": [
        {
          "output_type": "stream",
          "name": "stdout",
          "text": [
            "[ 0  0  1  0  0  6  1  0  2  1  8  1  0  1  1  3  0  1  2  3 13  1  0  1\n",
            "  0  0  8  0  0  2  2  7  5  1  6  1  0  0  5  0  3  3  1  1  2  1  2]\n"
          ]
        },
        {
          "output_type": "display_data",
          "data": {
            "text/plain": [
              "<Figure size 432x288 with 1 Axes>"
            ],
            "image/png": "[encoded data removed]"
          },
          "metadata": {
            "needs_background": "light"
          }
        }
      ]
    },
    {
      "cell_type": "markdown",
      "source": [
        "# 4. 수치 데이터 정규화하기\n",
        "- 정규화 하기 전에 카테고리형 데이터는 빼고 수치형 데이터만 정규화하기.\n",
        "- 정규화된 수치형 데이터와 카테고리형 데이터를 다시 붙이기"
      ],
      "metadata": {
        "id": "TL69sWhKh1wX"
      }
    },
    {
      "cell_type": "code",
      "source": [
        "from sklearn.preprocessing import StandardScaler\n",
        "\n",
        "ss = StandardScaler()\n",
        "\n",
        "# 수치형 데이터\n",
        "n_col = df.loc[:,(df.nunique() != 2) & (df.columns != 'time')].columns\n",
        "n_data = df[n_col]\n",
        "\n",
        "# 카테고리형 데이터\n",
        "c_col = df.loc[:,(df.nunique() == 2) & (df.columns != 'DEATH_EVENT')].columns\n",
        "c_data = df[c_col]\n",
        "\n",
        "# 타겟\n",
        "target = df['DEATH_EVENT']\n",
        "\n",
        "ss.fit(n_data)\n",
        "ndata_s = ss.transform(n_data)\n",
        "\n",
        "cdata_arr = c_data.values\n",
        "data = np.concatenate((ndata_s, cdata_arr), axis=1)"
      ],
      "metadata": {
        "id": "6BvNIjl9h8iX"
      },
      "execution_count": null,
      "outputs": []
    },
    {
      "cell_type": "markdown",
      "source": [
        "# 5. 훈련데이터와 타겟(정답)데이터 나누기"
      ],
      "metadata": {
        "id": "jdqJVdk0h7wJ"
      }
    },
    {
      "cell_type": "code",
      "source": [
        "from sklearn.model_selection import train_test_split\n",
        "\n",
        "trd, tsd, trt, tst = train_test_split(data, target, random_state=1)"
      ],
      "metadata": {
        "id": "1lO0hFJtiBry"
      },
      "execution_count": null,
      "outputs": []
    },
    {
      "cell_type": "markdown",
      "source": [
        "# 6. 학습용 데이터와 테스트용 데이터로 나누기"
      ],
      "metadata": {
        "id": "HkmKAjOvh_EO"
      }
    },
    {
      "cell_type": "code",
      "source": [
        "# 5번 항목에서 동시진행"
      ],
      "metadata": {
        "id": "F2B3qmLjiCuY"
      },
      "execution_count": null,
      "outputs": []
    },
    {
      "cell_type": "markdown",
      "source": [
        "# 7. 로지스틱 회귀를 이용해 학습하고 평가하기"
      ],
      "metadata": {
        "id": "-mW82WBMiBr_"
      }
    },
    {
      "cell_type": "code",
      "source": [
        "from sklearn.linear_model import LogisticRegression\n",
        "\n",
        "lr = LogisticRegression()\n",
        "\n",
        "lr.fit(trd, trt)\n",
        "print(lr.score(trd, trt), lr.score(tsd, tst))"
      ],
      "metadata": {
        "colab": {
          "base_uri": "https://localhost:8080/"
        },
        "id": "RVIoJjPtiFFp",
        "outputId": "5a281143-213f-4b57-b9ce-72095aca9a52"
      },
      "execution_count": null,
      "outputs": [
        {
          "output_type": "stream",
          "name": "stdout",
          "text": [
            "0.7455357142857143 0.7866666666666666\n"
          ]
        }
      ]
    },
    {
      "cell_type": "markdown",
      "source": [
        "# 8. 데이터와 death와의 상관관계를 막대그래프로 그리고 가장 높은 특성을 3개 확인"
      ],
      "metadata": {
        "id": "n6W5_YjKiEaH"
      }
    },
    {
      "cell_type": "code",
      "source": [
        "coefs = lr.coef_\n",
        "\n",
        "coefs = coefs.reshape(-1)\n",
        "# cols = df.iloc[:,:-1].columns.values\n",
        "cols = np.concatenate((n_col.values, c_col.values), axis=0)\n",
        "coef_sr = np.abs(pd.Series(coefs, index=cols))\n",
        "\n",
        "plt.bar(coef_sr.index, coef_sr, width=0.5)\n",
        "plt.xticks(rotation=90)"
      ],
      "metadata": {
        "colab": {
          "base_uri": "https://localhost:8080/",
          "height": 421
        },
        "id": "Aj0p8kiSh-Rh",
        "outputId": "4c2ab59f-77e7-4e8d-f059-9bf3670321b1"
      },
      "execution_count": null,
      "outputs": [
        {
          "output_type": "execute_result",
          "data": {
            "text/plain": [
              "([0, 1, 2, 3, 4, 5, 6, 7, 8, 9, 10],\n",
              " <a list of 11 Text major ticklabel objects>)"
            ]
          },
          "metadata": {},
          "execution_count": 117
        },
        {
          "output_type": "display_data",
          "data": {
            "text/plain": [
              "<Figure size 432x288 with 1 Axes>"
            ],
            "image/png": "[encoded data removed]"
          },
          "metadata": {
            "needs_background": "light"
          }
        }
      ]
    },
    {
      "cell_type": "markdown",
      "source": [
        "# 9. time 특성은 학습용 특성으로 적합하지 않음. 제거한 후  확률 경사 하강법으로 학습하기 "
      ],
      "metadata": {
        "id": "Jf6ZPGhoiHKu"
      }
    },
    {
      "cell_type": "code",
      "source": [
        "# sn.histplot(x='time', data=df, hue='DEATH_EVENT')\n",
        "\n",
        "# 4번에서 time 특성 제거\n",
        "\n",
        "# 경사 하강법\n",
        "from sklearn.linear_model import SGDClassifier\n",
        "\n",
        "sc = SGDClassifier(loss='log', random_state=1)\n",
        "\n",
        "# tr_list = []\n",
        "# ts_list = []\n",
        "# for i in range(700):\n",
        "#   sc.partial_fit(trd, trt, classes=np.unique(target))\n",
        "#   tr_list.append(sc.score(trd, trt))\n",
        "#   ts_list.append(sc.score(tsd, tst))\n",
        "\n",
        "# plt.plot(tr_list)\n",
        "# plt.plot(ts_list)\n",
        "\n",
        "sc = SGDClassifier(loss='log', max_iter=700, tol=None, random_state=1)\n",
        "sc.fit(trd, trt)\n",
        "\n",
        "print(sc.score(trd, trt), sc.score(tsd, tst))"
      ],
      "metadata": {
        "colab": {
          "base_uri": "https://localhost:8080/"
        },
        "id": "Xdxse5Abkm7t",
        "outputId": "c5e27034-d9b6-4f2f-a721-8a0b66c76c03"
      },
      "execution_count": null,
      "outputs": [
        {
          "output_type": "stream",
          "name": "stdout",
          "text": [
            "0.75 0.76\n"
          ]
        }
      ]
    },
    {
      "cell_type": "markdown",
      "source": [
        "# 10. 입력된 증세로 사망확률 예측"
      ],
      "metadata": {
        "id": "AYaZUCjykiai"
      }
    },
    {
      "cell_type": "code",
      "source": [
        "tst_n = [[75, 582, 20, 265000, 1.9, 130]]\n",
        "tst_c = [0, 0, 1, 1, 0]\n",
        "\n",
        "tst_ns = ss.transform(tst_n)[-1]\n",
        "\n",
        "tst_data = np.concatenate((tst_ns, tst_c), axis=0)\n",
        "tst_data = tst_data.reshape(1,-1)\n",
        "\n",
        "# 로지스틱 회귀 분석으로 예측한 결과\n",
        "print(lr.predict(tst_data)) # 예측 결과 (0: 생존, 1: 사망)\n",
        "print(lr.predict_proba(tst_data)) # 사망 확률\n",
        "\n",
        "# 경사하강법으로 예측한 결과\n",
        "print(sc.predict(tst_data)) # 예측 결과 (0: 생존, 1: 사망)\n",
        "print(sc.predict_proba(tst_data)) # 사망 확률"
      ],
      "metadata": {
        "colab": {
          "base_uri": "https://localhost:8080/"
        },
        "id": "Px--tI2Nkrqe",
        "outputId": "aeaef073-f673-49c9-fd25-c47b30a90c75"
      },
      "execution_count": null,
      "outputs": [
        {
          "output_type": "stream",
          "name": "stdout",
          "text": [
            "[1]\n",
            "[[0.22017503 0.77982497]]\n",
            "[1]\n",
            "[[0.13153415 0.86846585]]\n"
          ]
        },
        {
          "output_type": "stream",
          "name": "stderr",
          "text": [
            "/usr/local/lib/python3.7/dist-packages/sklearn/base.py:451: UserWarning: X does not have valid feature names, but StandardScaler was fitted with feature names\n",
            "  \"X does not have valid feature names, but\"\n"
          ]
        }
      ]
    }
  ]
}